{
 "cells": [
  {
   "cell_type": "code",
   "execution_count": 1,
   "id": "a2e64e57",
   "metadata": {},
   "outputs": [],
   "source": [
    "from scipy.stats import ortho_group\n",
    "from rahasia import *\n",
    "import numpy as np\n",
    "import random"
   ]
  },
  {
   "cell_type": "code",
   "execution_count": 2,
   "id": "5f046720",
   "metadata": {},
   "outputs": [],
   "source": [
    "def isIdempotent(A):\n",
    "    return np.all(np.dot(A,A) == A)"
   ]
  },
  {
   "cell_type": "code",
   "execution_count": 3,
   "id": "b19613e4",
   "metadata": {},
   "outputs": [],
   "source": [
    "secret = open(\"secret.txt\",\"rb\").read()\n",
    "while(len(secret) < 5000):\n",
    "    secret = bytes([random.randint(0,255)]) + secret + bytes([random.randint(0,255)])\n",
    "secret = secret[:5000]\n",
    "secret = [i for i in secret]\n",
    "secret = [secret[i:i+5] for i in range(0,5000,5)]\n",
    "secret = np.array(secret)"
   ]
  },
  {
   "cell_type": "code",
   "execution_count": 4,
   "id": "c9d7b5e8",
   "metadata": {},
   "outputs": [],
   "source": [
    "assert (isIdempotent(hidden_matrix)) and (np.linalg.det(hidden_matrix) != 0)"
   ]
  },
  {
   "cell_type": "code",
   "execution_count": 5,
   "id": "bcd9ba7f",
   "metadata": {},
   "outputs": [],
   "source": [
    "m = ortho_group.rvs(dim = 1000)\n",
    "product = m.dot(secret)"
   ]
  },
  {
   "cell_type": "code",
   "execution_count": 6,
   "id": "e15448ef",
   "metadata": {},
   "outputs": [],
   "source": [
    "w = random.randint(5,20)\n",
    "for i in range(w):\n",
    "    product = hidden_matrix.dot(product)"
   ]
  },
  {
   "cell_type": "code",
   "execution_count": 7,
   "id": "e0a63657",
   "metadata": {},
   "outputs": [],
   "source": [
    "np.savetxt(\"product.csv\", product, delimiter = ',')"
   ]
  },
  {
   "cell_type": "code",
   "execution_count": 8,
   "id": "9da63198",
   "metadata": {},
   "outputs": [],
   "source": [
    "np.savetxt(\"matrix.csv\", m, delimiter = ',')"
   ]
  }
 ],
 "metadata": {
  "kernelspec": {
   "display_name": "Python 3 (ipykernel)",
   "language": "python",
   "name": "python3"
  },
  "language_info": {
   "codemirror_mode": {
    "name": "ipython",
    "version": 3
   },
   "file_extension": ".py",
   "mimetype": "text/x-python",
   "name": "python",
   "nbconvert_exporter": "python",
   "pygments_lexer": "ipython3",
   "version": "3.9.7"
  }
 },
 "nbformat": 4,
 "nbformat_minor": 5
}
